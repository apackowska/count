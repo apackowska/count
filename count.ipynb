{
 "cells": [
  {
   "cell_type": "code",
   "execution_count": 47,
   "id": "be8194af",
   "metadata": {},
   "outputs": [
    {
     "data": {
      "text/plain": [
       "(4,\n",
       " 15,\n",
       " {'s': 3,\n",
       "  'a': 2,\n",
       "  'm': 1,\n",
       "  'h': 2,\n",
       "  't': 1,\n",
       "  'r': 1,\n",
       "  'e': 2,\n",
       "  'd': 1,\n",
       "  'o': 1,\n",
       "  'g': 1})"
      ]
     },
     "execution_count": 47,
     "metadata": {},
     "output_type": "execute_result"
    }
   ],
   "source": [
    "\n",
    "def count (t):\n",
    "    \n",
    "    words = 1\n",
    "    letters = 0\n",
    "    dic = {}\n",
    "    for x in t:\n",
    "        if x==\" \":\n",
    "            words +=1\n",
    "        if x!=\" \":\n",
    "            letters +=1\n",
    "            if x in dic:\n",
    "                dic [x] += 1\n",
    "            else:\n",
    "                dic [x] = 1\n",
    "    return words, letters, dic\n",
    "\n",
    "count(\"sam has three dogs\")\n"
   ]
  },
  {
   "cell_type": "code",
   "execution_count": null,
   "id": "5b62d0a5",
   "metadata": {},
   "outputs": [],
   "source": []
  }
 ],
 "metadata": {
  "kernelspec": {
   "display_name": "Python 3 (ipykernel)",
   "language": "python",
   "name": "python3"
  },
  "language_info": {
   "codemirror_mode": {
    "name": "ipython",
    "version": 3
   },
   "file_extension": ".py",
   "mimetype": "text/x-python",
   "name": "python",
   "nbconvert_exporter": "python",
   "pygments_lexer": "ipython3",
   "version": "3.9.7"
  }
 },
 "nbformat": 4,
 "nbformat_minor": 5
}
