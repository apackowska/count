{
 "cells": [
  {
   "cell_type": "code",
   "execution_count": 12,
   "id": "dab4ae7c",
   "metadata": {},
   "outputs": [
    {
     "data": {
      "text/plain": [
       "{1: 1, 2: 1, 5: 1, 6: 2, 7: 1}"
      ]
     },
     "execution_count": 12,
     "metadata": {},
     "output_type": "execute_result"
    }
   ],
   "source": [
    "dic = {}\n",
    "def count (t):\n",
    "    for x in t:\n",
    "        if x in dic:\n",
    "            dic[x] +=1\n",
    "        else:\n",
    "            dic[x] = 1\n",
    "    return dic\n",
    "\n",
    "count([1,2,5,6,6,7])"
   ]
  }
 ],
 "metadata": {
  "kernelspec": {
   "display_name": "Python 3 (ipykernel)",
   "language": "python",
   "name": "python3"
  },
  "language_info": {
   "codemirror_mode": {
    "name": "ipython",
    "version": 3
   },
   "file_extension": ".py",
   "mimetype": "text/x-python",
   "name": "python",
   "nbconvert_exporter": "python",
   "pygments_lexer": "ipython3",
   "version": "3.9.7"
  }
 },
 "nbformat": 4,
 "nbformat_minor": 5
}
